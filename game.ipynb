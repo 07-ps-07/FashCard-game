import random

class FlashCard:
    def __init__(self):
        self.fruits = {
            "Banana": "yellow",
            "Strawberries": "red",
            "Apple": "red",
            "Orange": "orange",
            "Grapes": "purple",
            "Lemon": "yellow",
            "Blueberry": "blue",
            "Kiwi": "green",
            "Peach": "orange",
            "Watermelon": "green"
        }

    def play(self):
        fruit, color = random.choice(list(self.fruits.items()))
        user_answer = input(f"What is the color of {fruit}? ").strip().lower()
        if user_answer == color:
            print("Correct!")
        else:
            print(f"Wrong! The correct answer is {color}.")

# Example usage:
flashcard = FlashCard()
flashcard.play()
